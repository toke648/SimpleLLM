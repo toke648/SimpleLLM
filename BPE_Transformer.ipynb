{
 "cells": [
  {
   "cell_type": "code",
   "execution_count": 2,
   "metadata": {},
   "outputs": [
    {
     "name": "stdout",
     "output_type": "stream",
     "text": [
      "词表大小: 10000\n"
     ]
    }
   ],
   "source": [
    "from tokenizers import Tokenizer\n",
    "\n",
    "# 加载 BPE Tokenizer\n",
    "tokenizer = Tokenizer.from_file(\"bpe_tokenizer.json\")\n",
    "\n",
    "# 获取词表大小\n",
    "vocab_size = tokenizer.get_vocab_size()\n",
    "print(\"词表大小:\", vocab_size)\n"
   ]
  },
  {
   "cell_type": "code",
   "execution_count": 3,
   "metadata": {},
   "outputs": [
    {
     "name": "stdout",
     "output_type": "stream",
     "text": [
      "训练数据大小: torch.Size([658, 50]) torch.Size([658, 50])\n"
     ]
    }
   ],
   "source": [
    "import torch\n",
    "\n",
    "def create_training_data(text, tokenizer, seq_length=50):\n",
    "    \"\"\"将文本转换为 Token ID，并生成训练样本\"\"\"\n",
    "    token_ids = tokenizer.encode(text).ids\n",
    "    inputs, targets = [], []\n",
    "\n",
    "    for i in range(len(token_ids) - seq_length):\n",
    "        inputs.append(token_ids[i:i+seq_length])\n",
    "        targets.append(token_ids[i+1:i+seq_length+1])\n",
    "\n",
    "    return torch.tensor(inputs), torch.tensor(targets)\n",
    "\n",
    "# 读取训练数据\n",
    "file_paths = [\"data1.txt\", \"data2.txt\"]\n",
    "text = \"\\n\".join([open(f, \"r\", encoding=\"utf-8\").read() for f in file_paths])\n",
    "\n",
    "# 生成训练样本\n",
    "inputs, targets = create_training_data(text, tokenizer)\n",
    "print(\"训练数据大小:\", inputs.shape, targets.shape)\n"
   ]
  },
  {
   "cell_type": "code",
   "execution_count": null,
   "metadata": {},
   "outputs": [
    {
     "name": "stdout",
     "output_type": "stream",
     "text": [
      "Epoch 0, Loss: 6.115679740905762\n",
      "Epoch 1, Loss: 5.5418829917907715\n",
      "Epoch 2, Loss: 5.477044105529785\n",
      "Epoch 3, Loss: 4.700092315673828\n",
      "Epoch 4, Loss: 3.406170129776001\n",
      "Epoch 5, Loss: 2.331599235534668\n",
      "Epoch 6, Loss: 1.8233799934387207\n",
      "Epoch 7, Loss: 1.5410447120666504\n",
      "Epoch 8, Loss: 1.2886035442352295\n",
      "Epoch 9, Loss: 1.1932536363601685\n",
      "Epoch 10, Loss: 1.5241265296936035\n",
      "Epoch 11, Loss: 1.2185933589935303\n",
      "Epoch 12, Loss: 1.1404614448547363\n",
      "Epoch 13, Loss: 0.9827008247375488\n",
      "Epoch 14, Loss: 1.1841603517532349\n",
      "Epoch 15, Loss: 1.0266867876052856\n",
      "Epoch 16, Loss: 1.4055362939834595\n",
      "Epoch 17, Loss: 1.2668442726135254\n",
      "Epoch 18, Loss: 1.1006709337234497\n",
      "Epoch 19, Loss: 1.1874781847000122\n"
     ]
    },
    {
     "ename": "",
     "evalue": "",
     "output_type": "error",
     "traceback": [
      "\u001b[1;31m在当前单元格或上一个单元格中执行代码时 Kernel 崩溃。\n",
      "\u001b[1;31m请查看单元格中的代码，以确定故障的可能原因。\n",
      "\u001b[1;31m单击<a href='https://aka.ms/vscodeJupyterKernelCrash'>此处</a>了解详细信息。\n",
      "\u001b[1;31m有关更多详细信息，请查看 Jupyter <a href='command:jupyter.viewOutput'>log</a>。"
     ]
    }
   ],
   "source": [
    "from torch.utils.data import DataLoader, TensorDataset\n",
    "import matplotlib.pyplot as plt\n",
    "import torch.nn as nn\n",
    "import torch.optim as optim\n",
    "\n",
    "# 创建 PyTorch 数据加载器\n",
    "dataset = TensorDataset(inputs, targets)\n",
    "dataloader = DataLoader(dataset, batch_size=16, shuffle=True)\n",
    "\n",
    "# 定义 Transformer Decoder\n",
    "class TransformerDecoder(nn.Module):\n",
    "    def __init__(self, vocab_size, d_model, num_heads, num_layers, dim_feedforward, max_len):\n",
    "        \"\"\"\n",
    "        Transformer Decoder 网络架构\n",
    "        :param vocab_size: 词表大小\n",
    "        :param d_model: 词嵌入维度\n",
    "        :param num_heads: 多头注意力头数\n",
    "        :param num_layers: 解码器层数\n",
    "        :param dim_feedforward: FeedForward 层维度\n",
    "        :param max_len: 序列最大长度\n",
    "        :return: None\n",
    "\n",
    "        注意：\n",
    "        - TransformerDecoder 架构由多个 TransformerDecoderLayer 组成，每个 TransformerDecoderLayer 包含一个 MultiHeadAttention 和一个 FeedForward 层。\n",
    "        - TransformerDecoderLayer 的参数包括 d_model（词嵌入维度），num_heads（多头注意力头数），dim_feedforward（FeedForward 层维度）。\n",
    "        - TransformerDecoder 的参数包括 vocab_size（词表大小），d_model（词嵌入维度），num_heads（多头注意力头数），num_layers（解码器层数），dim_feedforward（FeedForward 层维度），max_len（序列最大长度）。\n",
    "        \"\"\"\n",
    "        super().__init__()\n",
    "        self.embedding = nn.Embedding(vocab_size, d_model)\n",
    "        self.positional_encoding = nn.Parameter(torch.randn(1, max_len, d_model))\n",
    "        \n",
    "        decoder_layer = nn.TransformerDecoderLayer(d_model, num_heads, dim_feedforward)\n",
    "        self.transformer_decoder = nn.TransformerDecoder(decoder_layer, num_layers)\n",
    "        self.fc_out = nn.Linear(d_model, vocab_size)\n",
    "\n",
    "    def forward(self, input_seq, memory):\n",
    "        seq_len = input_seq.size(1)\n",
    "        embedded = self.embedding(input_seq) + self.positional_encoding[:, :seq_len, :]\n",
    "        memory = self.embedding(memory) + self.positional_encoding[:, :memory.size(1), :]\n",
    "        output = self.transformer_decoder(embedded, memory)\n",
    "        return self.fc_out(output)\n",
    "\n",
    "# 超参数\n",
    "d_model = 64  \n",
    "num_heads = 4  \n",
    "num_layers = 3  \n",
    "dim_feedforward = 128  \n",
    "max_len = 100  \n",
    "\n",
    "model = TransformerDecoder(vocab_size, d_model, num_heads, num_layers, dim_feedforward, max_len)\n",
    "\n",
    "# 训练参数\n",
    "optimizer = torch.optim.Adam(model.parameters(), lr=0.001)\n",
    "scheduler = torch.optim.lr_scheduler.StepLR(optimizer, step_size=10, gamma=0.95)\n",
    "\n",
    "def train(model, dataloader, epochs=20):\n",
    "    epochses = []\n",
    "    losses = []\n",
    "\n",
    "    for epoch in range(epochs):\n",
    "        for batch_inputs, batch_targets in dataloader:\n",
    "            optimizer.zero_grad()\n",
    "            output = model(batch_inputs, batch_inputs)\n",
    "            loss = nn.CrossEntropyLoss()(output.view(-1, vocab_size), batch_targets.view(-1))\n",
    "            loss.backward()\n",
    "            torch.nn.utils.clip_grad_norm_(model.parameters(), max_norm=1.0)  # 避免梯度爆炸\n",
    "            optimizer.step()\n",
    "        scheduler.step()\n",
    "        print(f\"Epoch {epoch}, Loss: {loss.item()}\")\n",
    "\n",
    "        epochses.append(epoch)\n",
    "        losses.append(loss.item())\n",
    "\n",
    "    # # 可视化训练过程\n",
    "    # plt.plot(epochses, losses, label='Loss')\n",
    "    # plt.xlabel('Epochs')\n",
    "    # plt.ylabel('Loss')\n",
    "    # plt.title('Training Loss')\n",
    "    # plt.legend()\n",
    "    # plt.show()\n",
    "\n",
    "    # 保存模型\n",
    "    torch.save(model.state_dict(), f\"model_epoch_{epoch}.pth\")\n",
    "\n",
    "# 训练模型\n",
    "train(model, dataloader, epochs=20)\n"
   ]
  },
  {
   "cell_type": "code",
   "execution_count": null,
   "metadata": {},
   "outputs": [
    {
     "name": "stdout",
     "output_type": "stream",
     "text": [
      "生成文本: hello world , how are you ? re marks came the region\n"
     ]
    }
   ],
   "source": [
    "def generate_text(model, tokenizer, start_text, max_length=50):\n",
    "    \"\"\"用 BPE 词表生成文本\"\"\"\n",
    "\n",
    "    # 加载训练好的模型\n",
    "    model.load_state_dict(torch.load(\"model.pth\", weights_only=True))\n",
    "    \n",
    "    # 为什么要设置为评估模式？\n",
    "    # 因为在评估模式下，模型会关闭 Dropout 和 BatchNorm 等训练时使用的操作，从而使得模型在推理时更加稳定和一致。\n",
    "    model.eval()\n",
    "\n",
    "    input_tokens = tokenizer.encode(\"<bos> \" + start_text).ids\n",
    "    input_tensor = torch.tensor([input_tokens])\n",
    "\n",
    "    with torch.no_grad():\n",
    "        for _ in range(max_length):\n",
    "            output = model(input_tensor, input_tensor)\n",
    "            next_token = output.argmax(dim=-1)[:, -1].item()\n",
    "            input_tokens.append(next_token)\n",
    "            input_tensor = torch.tensor([input_tokens])\n",
    "\n",
    "            # 如果遇到 <eos> 结束标记，则停止\n",
    "            if tokenizer.decode([next_token]) == \"<eos>\":\n",
    "                break\n",
    "\n",
    "    return tokenizer.decode(input_tokens)\n",
    "\n",
    "# 测试生成\n",
    "text = \"hello world, how are you?\"\n",
    "\n",
    "word_count = len(text.split())  # 获取单词个数\n",
    "print(\"生成文本:\", generate_text(model, tokenizer, text, max_length=word_count))\n"
   ]
  }
 ],
 "metadata": {
  "kernelspec": {
   "display_name": "base",
   "language": "python",
   "name": "python3"
  },
  "language_info": {
   "codemirror_mode": {
    "name": "ipython",
    "version": 3
   },
   "file_extension": ".py",
   "mimetype": "text/x-python",
   "name": "python",
   "nbconvert_exporter": "python",
   "pygments_lexer": "ipython3",
   "version": "3.12.4"
  }
 },
 "nbformat": 4,
 "nbformat_minor": 4
}
